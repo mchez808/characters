{
 "cells": [
  {
   "cell_type": "code",
   "execution_count": 1,
   "metadata": {},
   "outputs": [],
   "source": [
    "import os\n",
    "# from PIL import Image\n",
    "from IPython.display import Image"
   ]
  },
  {
   "cell_type": "code",
   "execution_count": 2,
   "metadata": {},
   "outputs": [
    {
     "data": {
      "image/png": "[encoded data removed]",
      "text/plain": [
       "<IPython.core.display.Image object>"
      ]
     },
     "execution_count": 2,
     "metadata": {},
     "output_type": "execute_result"
    }
   ],
   "source": [
    "Image(\"a4e9.png\")"
   ]
  },
  {
   "cell_type": "markdown",
   "metadata": {},
   "source": [
    "# create 5 labels for one data point\n"
   ]
  },
  {
   "cell_type": "markdown",
   "metadata": {},
   "source": [
    "### temporarily points to local directory"
   ]
  },
  {
   "cell_type": "markdown",
   "metadata": {},
   "source": [
    "### temporarily points to subset of one character (5 files)"
   ]
  },
  {
   "cell_type": "code",
   "execution_count": 3,
   "metadata": {},
   "outputs": [
    {
     "data": {
      "text/plain": [
       "'/home/mark/wd/github/characters'"
      ]
     },
     "execution_count": 3,
     "metadata": {},
     "output_type": "execute_result"
    }
   ],
   "source": [
    "os.getcwd()"
   ]
  },
  {
   "cell_type": "code",
   "execution_count": 4,
   "metadata": {},
   "outputs": [],
   "source": [
    "if os.getcwd() != 'home/mark/wd/github/characters/a4e9/':\n",
    "    os.chdir(\"a4e9/\")"
   ]
  },
  {
   "cell_type": "code",
   "execution_count": 5,
   "metadata": {},
   "outputs": [
    {
     "name": "stdout",
     "output_type": "stream",
     "text": [
      "./a4e9-chuxi_000.png\n",
      "./a4e9-jinwen_000.png\n",
      "./a4e9-oracle_000.png\n",
      "./a4e9-smallseal_000.png\n"
     ]
    }
   ],
   "source": [
    "for root_directory, sub_directories, filenames in os.walk(\".\", topdown=False):\n",
    "    for filename in filenames:\n",
    "        print(os.path.join(root_directory, filename))"
   ]
  },
  {
   "cell_type": "code",
   "execution_count": 6,
   "metadata": {},
   "outputs": [
    {
     "data": {
      "text/plain": [
       "['chuxi', 'jinwen', 'oracle', 'smallseal']"
      ]
     },
     "execution_count": 6,
     "metadata": {},
     "output_type": "execute_result"
    }
   ],
   "source": [
    "def get_filenames(directory):\n",
    "    for root_directory, sub_directories, filenames in os.walk(\".\", topdown=False):\n",
    "        for filename in filenames:\n",
    "            yield os.path.join(filename)\n",
    "\n",
    "def find_text_in_middle(text, punc_mark_1='-', punc_mark_2='_'):\n",
    "    split1 = text.split(punc_mark_1)\n",
    "    try:\n",
    "        text_in_middle = split1[1].split(punc_mark_2)[0]\n",
    "        return text_in_middle\n",
    "    except IndexError:\n",
    "        return None\n",
    "\n",
    "script_era_list = []\n",
    "\n",
    "filenames = get_filenames(\".\")\n",
    "\n",
    "while True:\n",
    "    try:\n",
    "        filename = next(filenames)\n",
    "    except StopIteration:\n",
    "        break\n",
    "    else:\n",
    "        era_name = find_text_in_middle(filename)\n",
    "        script_era_list.append(era_name)\n",
    "        \n",
    "\n",
    "script_era_list"
   ]
  },
  {
   "cell_type": "code",
   "execution_count": null,
   "metadata": {},
   "outputs": [],
   "source": []
  }
 ],
 "metadata": {
  "kernelspec": {
   "display_name": "Python 3",
   "language": "python",
   "name": "python3"
  },
  "language_info": {
   "codemirror_mode": {
    "name": "ipython",
    "version": 3
   },
   "file_extension": ".py",
   "mimetype": "text/x-python",
   "name": "python",
   "nbconvert_exporter": "python",
   "pygments_lexer": "ipython3",
   "version": "3.6.4"
  }
 },
 "nbformat": 4,
 "nbformat_minor": 2
}
